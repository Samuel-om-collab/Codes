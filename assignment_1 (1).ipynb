{
  "nbformat": 4,
  "nbformat_minor": 0,
  "metadata": {
    "colab": {
      "provenance": []
    },
    "kernelspec": {
      "name": "python3",
      "display_name": "Python 3"
    },
    "language_info": {
      "name": "python"
    }
  },
  "cells": [
    {
      "cell_type": "code",
      "execution_count": null,
      "metadata": {
        "id": "Tej2nFoRjM76"
      },
      "outputs": [],
      "source": [
        "import pandas as pd # Importing pandas for manupilation\n",
        "import numpy as np # Importing numpy for numerical computations\n",
        "from sklearn.preprocessing import StandardScaler,MinMaxScaler,LabelEncoder,OneHotEncoder\n",
        "from sklearn.model_selection import train_test_split"
      ]
    },
    {
      "cell_type": "code",
      "source": [
        "# Step 1: Load Dataset (CSV file will be created separately)\n",
        "df = pd.read_csv('/content/candy-data.csv') # Reading dataset into a pandas DataFrame\n",
        "print(\"Original Data:\")\n",
        "print(df.head()) #Display the first few rows of the data set"
      ],
      "metadata": {
        "colab": {
          "base_uri": "https://localhost:8080/"
        },
        "id": "vJX14EznkOZc",
        "outputId": "dbdfbf43-60df-4908-baff-a007e3c69ac8"
      },
      "execution_count": null,
      "outputs": [
        {
          "output_type": "stream",
          "name": "stdout",
          "text": [
            "Original Data:\n",
            "  competitorname  chocolate  fruity  caramel  peanutyalmondy  nougat  \\\n",
            "0      100 Grand          1       0        1               0       0   \n",
            "1   3 Musketeers          1       0        0               0       1   \n",
            "2       One dime          0       0        0               0       0   \n",
            "3    One quarter          0       0        0               0       0   \n",
            "4      Air Heads          0       1        0               0       0   \n",
            "\n",
            "   crispedricewafer  hard  bar  pluribus  sugarpercent  pricepercent  \\\n",
            "0                 1     0    1         0         0.732         0.860   \n",
            "1                 0     0    1         0         0.604         0.511   \n",
            "2                 0     0    0         0         0.011         0.116   \n",
            "3                 0     0    0         0         0.011         0.511   \n",
            "4                 0     0    0         0         0.906         0.511   \n",
            "\n",
            "   winpercent  \n",
            "0   66.971725  \n",
            "1   67.602936  \n",
            "2   32.261086  \n",
            "3   46.116505  \n",
            "4   52.341465  \n"
          ]
        }
      ]
    },
    {
      "cell_type": "code",
      "source": [
        "# Step 2: Handling Missing Values\n",
        "print(\"\\nChecking for missing values:\")\n",
        "print(df.isnull().sum()) # Count missing values per column\n",
        "df = df.dropna() # Drop rows with missing values (Alternative: df.fillna(value) to fill missing values)"
      ],
      "metadata": {
        "colab": {
          "base_uri": "https://localhost:8080/"
        },
        "id": "n63U5mKVkZlb",
        "outputId": "dfc46718-35a4-41e8-d8af-2fa9b0009009"
      },
      "execution_count": null,
      "outputs": [
        {
          "output_type": "stream",
          "name": "stdout",
          "text": [
            "\n",
            "Checking for missing values:\n",
            "competitorname      0\n",
            "chocolate           0\n",
            "fruity              0\n",
            "caramel             0\n",
            "peanutyalmondy      0\n",
            "nougat              0\n",
            "crispedricewafer    0\n",
            "hard                0\n",
            "bar                 0\n",
            "pluribus            0\n",
            "sugarpercent        0\n",
            "pricepercent        0\n",
            "winpercent          0\n",
            "dtype: int64\n"
          ]
        }
      ]
    },
    {
      "cell_type": "code",
      "source": [
        "# Step 3: Handling Duplicates\n",
        "print(\"\\nChecking for duplicate:\")\n",
        "print(df.duplicated().sum()) # Count duplicate rows\n",
        "df = df.drop_duplicates() # Remove duplicate rows"
      ],
      "metadata": {
        "colab": {
          "base_uri": "https://localhost:8080/"
        },
        "id": "fflLwT92kkV4",
        "outputId": "2197f221-537c-452e-d77c-a0e5d0913320"
      },
      "execution_count": null,
      "outputs": [
        {
          "output_type": "stream",
          "name": "stdout",
          "text": [
            "\n",
            "Checking for duplicate:\n",
            "0\n"
          ]
        }
      ]
    },
    {
      "cell_type": "code",
      "source": [
        "# Step 4: Encoding Categorical Variables\n",
        "print(\"\\nEncoding categorical variables:\")\n",
        "categorical_cols_ = df.select_dtypes(include=['object']).columns # Selecting categorical columns\n",
        "label_encoders = {}\n",
        "for col in categorical_cols_:\n",
        "  le = LabelEncoder()\n",
        "  df[col] = le.fit_transform(df[col]) # Apply Label Encoding\n",
        "  label_encoders[col] = le\n",
        "  print(df.head()) # Display tranformed dataset"
      ],
      "metadata": {
        "colab": {
          "base_uri": "https://localhost:8080/"
        },
        "id": "olWu3MMPlBVI",
        "outputId": "cf60ef82-cd45-4307-9c8f-2f6309cbd759"
      },
      "execution_count": null,
      "outputs": [
        {
          "output_type": "stream",
          "name": "stdout",
          "text": [
            "\n",
            "Encoding categorical variables:\n",
            "   competitorname  chocolate  fruity  caramel  peanutyalmondy  nougat  \\\n",
            "0               0          1       0        1               0       0   \n",
            "1               1          1       0        0               0       1   \n",
            "2              44          0       0        0               0       0   \n",
            "3              45          0       0        0               0       0   \n",
            "4               2          0       1        0               0       0   \n",
            "\n",
            "   crispedricewafer  hard  bar  pluribus  sugarpercent  pricepercent  \\\n",
            "0                 1     0    1         0         0.732         0.860   \n",
            "1                 0     0    1         0         0.604         0.511   \n",
            "2                 0     0    0         0         0.011         0.116   \n",
            "3                 0     0    0         0         0.011         0.511   \n",
            "4                 0     0    0         0         0.906         0.511   \n",
            "\n",
            "   winpercent  \n",
            "0   66.971725  \n",
            "1   67.602936  \n",
            "2   32.261086  \n",
            "3   46.116505  \n",
            "4   52.341465  \n"
          ]
        }
      ]
    },
    {
      "cell_type": "code",
      "source": [
        "# Step 5: Featuring Scaling\n",
        "print(\"\\nApplying feature scalling:\")\n",
        "numeric_cols = df.select_dtypes(include=[np.number]).columns # Selecting numeric columns\n",
        "scaler = StandardScaler() # Initializing standard scaler\n",
        "df[numeric_cols] = scaler.fit_transform(df[numeric_cols]) # standardizing numerical features\n",
        "print(df.head()) # Display scaled dataset"
      ],
      "metadata": {
        "colab": {
          "base_uri": "https://localhost:8080/"
        },
        "id": "s4qNYkdllORb",
        "outputId": "9dc7ace4-cc0b-41d5-b0c5-e54290845a7e"
      },
      "execution_count": null,
      "outputs": [
        {
          "output_type": "stream",
          "name": "stdout",
          "text": [
            "\n",
            "Applying feature scalling:\n",
            "   competitorname  chocolate    fruity   caramel  peanutyalmondy    nougat  \\\n",
            "0       -1.711792   1.138990 -0.899172  2.251983       -0.444053 -0.299572   \n",
            "1       -1.671035   1.138990 -0.899172 -0.444053       -0.444053  3.338092   \n",
            "2        0.081514  -0.877971 -0.899172 -0.444053       -0.444053 -0.299572   \n",
            "3        0.122271  -0.877971 -0.899172 -0.444053       -0.444053 -0.299572   \n",
            "4       -1.630278  -0.877971  1.112134 -0.444053       -0.444053 -0.299572   \n",
            "\n",
            "   crispedricewafer     hard       bar  pluribus  sugarpercent  pricepercent  \\\n",
            "0          3.338092 -0.46291  1.745743  -1.03594      0.901261      1.376914   \n",
            "1         -0.299572 -0.46291  1.745743  -1.03594      0.445922      0.148273   \n",
            "2         -0.299572 -0.46291 -0.572822  -1.03594     -1.663576     -1.242308   \n",
            "3         -0.299572 -0.46291 -0.572822  -1.03594     -1.663576      0.148273   \n",
            "4         -0.299572 -0.46291 -0.572822  -1.03594      1.520236      0.148273   \n",
            "\n",
            "   winpercent  \n",
            "0    1.138603  \n",
            "1    1.181755  \n",
            "2   -1.234361  \n",
            "3   -0.287147  \n",
            "4    0.138417  \n"
          ]
        }
      ]
    },
    {
      "cell_type": "code",
      "source": [
        "# Step 6: Spliting Dataset into training and Testing Sets\n",
        "print(\"\\nSplitting dataset into training and testing sts:\")\n",
        "x = df.drop(columns=['chocolate']) # Assuming 'chocolate' is the target variable\n",
        "y = df['chocolate']\n",
        "x_train,x_test,y_train,y_test = train_test_split(x,y,test_size=0.2,random_state=42)\n",
        "print(f\"Training set size:{x_train.shape}, Testing set size:{x_test.shape}\")"
      ],
      "metadata": {
        "colab": {
          "base_uri": "https://localhost:8080/"
        },
        "id": "PsgSO5OalePD",
        "outputId": "67544809-27ad-473e-be45-57ec12fee81c"
      },
      "execution_count": null,
      "outputs": [
        {
          "output_type": "stream",
          "name": "stdout",
          "text": [
            "\n",
            "Splitting dataset into training and testing sts:\n",
            "Training set size:(68, 12), Testing set size:(17, 12)\n"
          ]
        }
      ]
    }
  ]
}