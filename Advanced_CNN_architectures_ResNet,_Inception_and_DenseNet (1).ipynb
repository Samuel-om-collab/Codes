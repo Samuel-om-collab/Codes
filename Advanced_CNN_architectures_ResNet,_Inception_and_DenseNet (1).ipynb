{
  "nbformat": 4,
  "nbformat_minor": 0,
  "metadata": {
    "colab": {
      "provenance": [],
      "gpuType": "T4"
    },
    "kernelspec": {
      "name": "python3",
      "display_name": "Python 3"
    },
    "language_info": {
      "name": "python"
    },
    "accelerator": "GPU"
  },
  "cells": [
    {
      "cell_type": "code",
      "execution_count": null,
      "metadata": {
        "colab": {
          "base_uri": "https://localhost:8080/"
        },
        "id": "Z-OQTZNwuneQ",
        "outputId": "849c7385-8060-45d5-d61b-ac9114084c25"
      },
      "outputs": [
        {
          "output_type": "execute_result",
          "data": {
            "text/plain": [
              "Ellipsis"
            ]
          },
          "metadata": {},
          "execution_count": 1
        }
      ],
      "source": [
        "import tensorflow as tf\n",
        "from tensorflow import keras\n",
        "from tensorflow.keras import layers\n",
        "\n",
        "#ResNet block, Inception module, and DenseNet block functions\n",
        "#(Same as in the previous example)\n",
        "\n",
        "..."
      ]
    },
    {
      "cell_type": "code",
      "source": [
        "#ResNet block\n",
        "def resnet_block(inputs, filters,kernel_size=3, strides=1, conv_shortcut=False):\n",
        "    x = layers.Conv2D(filters, kernel_size, strides=strides, padding='same')(inputs)\n",
        "    x = layers.BatchNormalization()(x)\n",
        "    x = layers.ReLU()(x)\n",
        "    x = layers.Conv2D(filters, kernel_size, padding='same')(x)\n",
        "    x = layers.BatchNormalization()(x)\n",
        "\n",
        "    if conv_shortcut:\n",
        "        shortcut = layers.Conv2D(filters, 1, strides=strides)(inputs)\n",
        "        shortcut = layers.BatchNormalization()(shortcut)\n",
        "    else:\n",
        "        shortcut = inputs\n",
        "    x = layers.add([x, shortcut])\n",
        "    x = layers.ReLU()(x)\n",
        "    return x\n"
      ],
      "metadata": {
        "id": "XSJnjuZ-wjhi"
      },
      "execution_count": null,
      "outputs": []
    },
    {
      "cell_type": "code",
      "source": [
        "#Inception module\n",
        "def inception_module(inputs, filters):\n",
        "    conv1x1 = layers.Conv2D(filters, 1, padding='same', activation='relu')(inputs)\n",
        "    conv3x3 = layers.Conv2D(filters, 3, padding='same', activation='relu')(inputs)\n",
        "    conv5x5 = layers.Conv2D(filters, 5, padding='same', activation='relu')(inputs)\n",
        "    pool = layers.MaxPooling2D(3, strides=1, padding='same')(inputs)\n",
        "    pool = layers.Conv2D(filters, 1, padding='same', activation='relu')(pool)\n",
        "    output = layers.concatenate([conv1x1, conv3x3, conv5x5, pool], axis=-1)\n",
        "    return output\n"
      ],
      "metadata": {
        "id": "rfeJloGfyvUh"
      },
      "execution_count": null,
      "outputs": []
    },
    {
      "cell_type": "code",
      "source": [
        "#DenseNet block\n",
        "def densenet_block(inputs, growth_rate):\n",
        "    x = layers.BatchNormalization()(inputs)\n",
        "    x = layers.ReLU()(x)\n",
        "    x = layers.Conv2D(growth_rate, 3, padding='same')(x)\n",
        "    x = layers.concatenate([inputs, x], axis=-1)\n",
        "    return x"
      ],
      "metadata": {
        "id": "fokMiNtA1EHY"
      },
      "execution_count": null,
      "outputs": []
    },
    {
      "cell_type": "code",
      "source": [
        "#Build the model\n",
        "def build_model(input_shape, num_classes):\n",
        "    inputs = keras.Input(shape=input_shape)\n",
        "\n",
        "    #ResNet-like architecture\n",
        "    x = layers.Conv2D(64, 7, strides=2, padding='same')(inputs)\n",
        "    x = layers.BatchNormalization()(x)\n",
        "    x = layers.ReLU()(x)\n",
        "    x = layers.MaxPooling2D(3, strides=2, padding='same')(x)\n",
        "\n",
        "    x = resnet_block(x, 64)\n",
        "    x = resnet_block(x, 64)\n",
        "    x = resnet_block(x, 128, strides=2, conv_shortcut=True)\n",
        "    x = resnet_block(x, 128)\n",
        "\n",
        "    #Inception module\n",
        "    x = inception_module(x, 128)\n",
        "\n",
        "    #DenseNet block\n",
        "    x = densenet_block(x, 32)\n",
        "    x = densenet_block(x, 32)\n",
        "\n",
        "    x = layers.GlobalAveragePooling2D()(x)\n",
        "    outputs = layers.Dense(num_classes, activation='softmax')(x)\n",
        "\n",
        "    model = keras.Model(inputs, outputs)\n",
        "    return model\n"
      ],
      "metadata": {
        "id": "YACSKAjE17NH"
      },
      "execution_count": null,
      "outputs": []
    },
    {
      "cell_type": "code",
      "source": [
        "#Load and preprocess the CIFAR-10 dataset\n",
        "(x_train, y_train), (x_test, y_test) = keras.datasets.cifar10.load_data()\n",
        "x_train = x_train.astype('float32') / 255.0\n",
        "x_test = x_test.astype('float32') / 255.0\n",
        "y_train = keras.utils.to_categorical(y_train, 10)\n",
        "y_test = keras.utils.to_categorical(y_test, 10)"
      ],
      "metadata": {
        "id": "yvR5ge2p45OP",
        "colab": {
          "base_uri": "https://localhost:8080/"
        },
        "outputId": "d0dc0956-354d-4d1c-fce2-2335587f9476"
      },
      "execution_count": null,
      "outputs": [
        {
          "output_type": "stream",
          "name": "stdout",
          "text": [
            "Downloading data from https://www.cs.toronto.edu/~kriz/cifar-10-python.tar.gz\n",
            "\u001b[1m170498071/170498071\u001b[0m \u001b[32m━━━━━━━━━━━━━━━━━━━━\u001b[0m\u001b[37m\u001b[0m \u001b[1m5s\u001b[0m 0us/step\n"
          ]
        }
      ]
    },
    {
      "cell_type": "code",
      "source": [
        "#Build and compile the model\n",
        "input_shape =  (32, 32, 3)\n",
        "num_classes = 10\n",
        "model = build_model(input_shape, num_classes)\n",
        "model.compile(optimizer='adam', loss='categorical_crossentropy', metrics=['accuracy'])"
      ],
      "metadata": {
        "id": "H9s0X3Gw5JAu"
      },
      "execution_count": null,
      "outputs": []
    },
    {
      "cell_type": "code",
      "source": [
        "#Train the model\n",
        "batch_size = 128\n",
        "epochs = 10\n",
        "model.fit(x_train, y_train, batch_size=batch_size, epochs=epochs, validation_split=0.1)"
      ],
      "metadata": {
        "colab": {
          "base_uri": "https://localhost:8080/"
        },
        "id": "S7nkOCbW6GRO",
        "outputId": "7c4d2914-2cfb-4dc1-e145-e1e252e2a5c1"
      },
      "execution_count": null,
      "outputs": [
        {
          "output_type": "stream",
          "name": "stdout",
          "text": [
            "Epoch 1/10\n",
            "\u001b[1m352/352\u001b[0m \u001b[32m━━━━━━━━━━━━━━━━━━━━\u001b[0m\u001b[37m\u001b[0m \u001b[1m33s\u001b[0m 42ms/step - accuracy: 0.4238 - loss: 1.6546 - val_accuracy: 0.2918 - val_loss: 2.0843\n",
            "Epoch 2/10\n",
            "\u001b[1m352/352\u001b[0m \u001b[32m━━━━━━━━━━━━━━━━━━━━\u001b[0m\u001b[37m\u001b[0m \u001b[1m5s\u001b[0m 13ms/step - accuracy: 0.6343 - loss: 1.0149 - val_accuracy: 0.5936 - val_loss: 1.1312\n",
            "Epoch 3/10\n",
            "\u001b[1m352/352\u001b[0m \u001b[32m━━━━━━━━━━━━━━━━━━━━\u001b[0m\u001b[37m\u001b[0m \u001b[1m5s\u001b[0m 14ms/step - accuracy: 0.7178 - loss: 0.8017 - val_accuracy: 0.6424 - val_loss: 1.0322\n",
            "Epoch 4/10\n",
            "\u001b[1m352/352\u001b[0m \u001b[32m━━━━━━━━━━━━━━━━━━━━\u001b[0m\u001b[37m\u001b[0m \u001b[1m5s\u001b[0m 13ms/step - accuracy: 0.7698 - loss: 0.6481 - val_accuracy: 0.5360 - val_loss: 1.5100\n",
            "Epoch 5/10\n",
            "\u001b[1m352/352\u001b[0m \u001b[32m━━━━━━━━━━━━━━━━━━━━\u001b[0m\u001b[37m\u001b[0m \u001b[1m5s\u001b[0m 14ms/step - accuracy: 0.8053 - loss: 0.5530 - val_accuracy: 0.6848 - val_loss: 0.9542\n",
            "Epoch 6/10\n",
            "\u001b[1m352/352\u001b[0m \u001b[32m━━━━━━━━━━━━━━━━━━━━\u001b[0m\u001b[37m\u001b[0m \u001b[1m5s\u001b[0m 13ms/step - accuracy: 0.8391 - loss: 0.4561 - val_accuracy: 0.6368 - val_loss: 1.2269\n",
            "Epoch 7/10\n",
            "\u001b[1m352/352\u001b[0m \u001b[32m━━━━━━━━━━━━━━━━━━━━\u001b[0m\u001b[37m\u001b[0m \u001b[1m5s\u001b[0m 13ms/step - accuracy: 0.8690 - loss: 0.3692 - val_accuracy: 0.5942 - val_loss: 1.4952\n",
            "Epoch 8/10\n",
            "\u001b[1m352/352\u001b[0m \u001b[32m━━━━━━━━━━━━━━━━━━━━\u001b[0m\u001b[37m\u001b[0m \u001b[1m5s\u001b[0m 14ms/step - accuracy: 0.8944 - loss: 0.3047 - val_accuracy: 0.6488 - val_loss: 1.3247\n",
            "Epoch 9/10\n",
            "\u001b[1m352/352\u001b[0m \u001b[32m━━━━━━━━━━━━━━━━━━━━\u001b[0m\u001b[37m\u001b[0m \u001b[1m5s\u001b[0m 14ms/step - accuracy: 0.9179 - loss: 0.2361 - val_accuracy: 0.7078 - val_loss: 1.1004\n",
            "Epoch 10/10\n",
            "\u001b[1m352/352\u001b[0m \u001b[32m━━━━━━━━━━━━━━━━━━━━\u001b[0m\u001b[37m\u001b[0m \u001b[1m5s\u001b[0m 14ms/step - accuracy: 0.9304 - loss: 0.2003 - val_accuracy: 0.7270 - val_loss: 1.0801\n"
          ]
        },
        {
          "output_type": "execute_result",
          "data": {
            "text/plain": [
              "<keras.src.callbacks.history.History at 0x7c41e1927010>"
            ]
          },
          "metadata": {},
          "execution_count": 8
        }
      ]
    },
    {
      "cell_type": "code",
      "source": [
        "#Evaluate the model\n",
        "test_loss, test_acc = model.evaluate(x_test, y_test)\n",
        "print('Test accuracy:', test_acc)"
      ],
      "metadata": {
        "id": "pGQQT7FN6twH",
        "colab": {
          "base_uri": "https://localhost:8080/"
        },
        "outputId": "7115f842-5a67-49fe-9abb-cce3d1eb76b3"
      },
      "execution_count": null,
      "outputs": [
        {
          "output_type": "stream",
          "name": "stdout",
          "text": [
            "\u001b[1m313/313\u001b[0m \u001b[32m━━━━━━━━━━━━━━━━━━━━\u001b[0m\u001b[37m\u001b[0m \u001b[1m4s\u001b[0m 9ms/step - accuracy: 0.7297 - loss: 1.1086\n",
            "Test accuracy: 0.7263000011444092\n"
          ]
        }
      ]
    }
  ]
}