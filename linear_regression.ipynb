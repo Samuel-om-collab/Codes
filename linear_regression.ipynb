{
  "nbformat": 4,
  "nbformat_minor": 0,
  "metadata": {
    "colab": {
      "provenance": []
    },
    "kernelspec": {
      "name": "python3",
      "display_name": "Python 3"
    },
    "language_info": {
      "name": "python"
    }
  },
  "cells": [
    {
      "cell_type": "code",
      "execution_count": null,
      "metadata": {
        "id": "rrDrqy5DzyHs"
      },
      "outputs": [],
      "source": [
        "import pandas as pd\n",
        "import numpy as np\n",
        "import matplotlib.pyplot as plt\n",
        "from sklearn.model_selection import train_test_split\n",
        "from sklearn.linear_model import LinearRegression\n",
        "from sklearn.metrics import mean_squared_error, r2_score,mean_absolute_error\n",
        "import os"
      ]
    },
    {
      "cell_type": "code",
      "source": [
        "# Try loading dataset from CSV, fallback to sklearn dataset if not found\n",
        "csv_file= '/content/Linear_regression.csv'\n",
        "if os.path.exists(csv_file):\n",
        "  df=pd.read_csv(csv_file)\n",
        "else:\n",
        "    data = load_diabetes()\n",
        "    df=pd.DataFrame(data,data,columns=data.feature_names)\n",
        "    df['target']=data.target"
      ],
      "metadata": {
        "id": "BSFs9o4M1Obu"
      },
      "execution_count": null,
      "outputs": []
    },
    {
      "cell_type": "code",
      "source": [
        "# Select one feature for simple linear regression\n",
        "x=df[['bmi']].values # Predictor\n",
        "y=df['target'].values # Target"
      ],
      "metadata": {
        "id": "83Kxv1AY4LPp"
      },
      "execution_count": null,
      "outputs": []
    },
    {
      "cell_type": "code",
      "source": [
        "x"
      ],
      "metadata": {
        "colab": {
          "base_uri": "https://localhost:8080/"
        },
        "id": "uJCT13nj5Iak",
        "outputId": "08e6bd04-420a-4c90-cee2-6f1d2c2ef4a2"
      },
      "execution_count": null,
      "outputs": [
        {
          "output_type": "execute_result",
          "data": {
            "text/plain": [
              "array([[22.49080238],\n",
              "       [34.01428613],\n",
              "       [29.63987884],\n",
              "       [26.97316968],\n",
              "       [18.12037281],\n",
              "       [18.11989041],\n",
              "       [16.16167224],\n",
              "       [32.32352292],\n",
              "       [27.02230023],\n",
              "       [29.16145156],\n",
              "       [15.41168989],\n",
              "       [34.39819704],\n",
              "       [31.64885282],\n",
              "       [19.24678221],\n",
              "       [18.63649934],\n",
              "       [18.6680902 ],\n",
              "       [21.08484486],\n",
              "       [25.49512863],\n",
              "       [23.63890037],\n",
              "       [20.8245828 ],\n",
              "       [27.23705789],\n",
              "       [17.78987721],\n",
              "       [20.84289297],\n",
              "       [22.32723687],\n",
              "       [24.12139968],\n",
              "       [30.70351923],\n",
              "       [18.99347564],\n",
              "       [25.28468877],\n",
              "       [26.84829138],\n",
              "       [15.92900825],\n",
              "       [27.15089704],\n",
              "       [18.41048247],\n",
              "       [16.30103186],\n",
              "       [33.97771075],\n",
              "       [34.31264066],\n",
              "       [31.16794696],\n",
              "       [21.09227538],\n",
              "       [16.95344228],\n",
              "       [28.68466053],\n",
              "       [23.80304987],\n",
              "       [17.4407647 ],\n",
              "       [24.9035382 ],\n",
              "       [15.68777042],\n",
              "       [33.18640804],\n",
              "       [20.17559963],\n",
              "       [28.25044569],\n",
              "       [21.23422152],\n",
              "       [25.40136042],\n",
              "       [25.93420559],\n",
              "       [18.69708911],\n",
              "       [34.39169256],\n",
              "       [30.50265647],\n",
              "       [33.78997883],\n",
              "       [32.89654701],\n",
              "       [26.95799958],\n",
              "       [33.4374847 ],\n",
              "       [16.76985004],\n",
              "       [18.91965725],\n",
              "       [15.90454578],\n",
              "       [21.50660662],\n",
              "       [22.77354579],\n",
              "       [20.42698064],\n",
              "       [31.57475018],\n",
              "       [22.13506653],\n",
              "       [20.61869019],\n",
              "       [25.85392166],\n",
              "       [17.8184845 ],\n",
              "       [31.04393962],\n",
              "       [16.49101287],\n",
              "       [34.73773873],\n",
              "       [30.44489539],\n",
              "       [18.97431363],\n",
              "       [15.11044234],\n",
              "       [31.30922857],\n",
              "       [29.13714688],\n",
              "       [29.58014336],\n",
              "       [30.42540693],\n",
              "       [16.48089303],\n",
              "       [22.16931457],\n",
              "       [17.31738119],\n",
              "       [32.26206852],\n",
              "       [27.46596254],\n",
              "       [21.6179605 ],\n",
              "       [16.27116701],\n",
              "       [21.21964643],\n",
              "       [21.50366644],\n",
              "       [29.59212357],\n",
              "       [27.75114943],\n",
              "       [32.74425485],\n",
              "       [24.4442985 ],\n",
              "       [17.39188492],\n",
              "       [29.26489574],\n",
              "       [30.21570097],\n",
              "       [26.22554395],\n",
              "       [30.4193436 ],\n",
              "       [24.87591193],\n",
              "       [25.45465659],\n",
              "       [23.55082037],\n",
              "       [15.50838253],\n",
              "       [17.15782854]])"
            ]
          },
          "metadata": {},
          "execution_count": 11
        }
      ]
    },
    {
      "cell_type": "code",
      "source": [
        "y"
      ],
      "metadata": {
        "colab": {
          "base_uri": "https://localhost:8080/"
        },
        "id": "Pi-6Aa9E59Gd",
        "outputId": "529ca7c6-521b-400b-cc9d-64c91a0f3f1d"
      },
      "execution_count": null,
      "outputs": [
        {
          "output_type": "execute_result",
          "data": {
            "text/plain": [
              "array([117.90764247, 150.54782163, 139.37844039, 120.98166448,\n",
              "       103.26275899, 106.14523408, 105.87448695, 144.37921766,\n",
              "       127.02443269, 134.97556945, 100.81208025, 154.83834668,\n",
              "       142.29775743, 110.30668381, 106.39488578, 110.84749554,\n",
              "       109.74426911, 124.84707516, 118.95616035, 105.15617367,\n",
              "       133.19177507, 104.674908  , 112.5542462 , 115.80877493,\n",
              "       115.28734534, 140.00733107, 105.26685435, 121.84267996,\n",
              "       129.73844557,  99.80727905, 140.88362062, 106.10433649,\n",
              "       100.19084753, 151.56090266, 143.34406591, 143.37127151,\n",
              "       113.5779772 , 113.1765374 , 135.09217677, 122.91688634,\n",
              "       102.14873524, 118.86722442, 102.77742534, 153.31888929,\n",
              "       114.48195863, 130.20439979, 120.71663612, 119.19482596,\n",
              "       130.73690223, 117.04354546, 148.22239604, 138.67648075,\n",
              "       151.86819332, 146.17226276, 123.12068157, 150.65526898,\n",
              "        94.99803155, 109.1269339 ,  93.11651616, 122.26949187,\n",
              "       114.40437092, 109.67063433, 148.79183664, 110.25087802,\n",
              "       112.99337025, 134.09747876,  95.41803733, 144.05498814,\n",
              "       100.77245259, 158.12233055, 135.1499326 , 100.32065783,\n",
              "        97.94103486, 145.41260907, 138.66390488, 140.47267113,\n",
              "       137.87609719, 100.60394759, 117.97330608,  98.38038648,\n",
              "       156.11507811, 134.76705221, 108.89736401, 102.09626906,\n",
              "       108.78553095, 118.44642234, 144.5693486 , 129.15003669,\n",
              "       153.0496452 , 125.39680014, 106.28595556, 147.27865215,\n",
              "       139.42016234, 124.90795103, 136.81045865, 120.54868436,\n",
              "       125.97846122, 122.35822098,  97.9086016 , 105.60940186])"
            ]
          },
          "metadata": {},
          "execution_count": 12
        }
      ]
    },
    {
      "cell_type": "code",
      "source": [
        "# Split into training and test sets\n",
        "x_train,x_test,y_train,y_test=train_test_split(x,y,test_size=0.2,random_state=42)"
      ],
      "metadata": {
        "id": "lP0fEX5m8rv-"
      },
      "execution_count": null,
      "outputs": []
    },
    {
      "cell_type": "code",
      "source": [
        "y_train"
      ],
      "metadata": {
        "colab": {
          "base_uri": "https://localhost:8080/"
        },
        "id": "kNhrSzND-DgP",
        "outputId": "c02f815b-476a-426a-d50e-b6d8626277fe"
      },
      "execution_count": null,
      "outputs": [
        {
          "output_type": "execute_result",
          "data": {
            "text/plain": [
              "array([150.65526898, 153.0496452 , 105.26685435, 102.77742534,\n",
              "       158.12233055, 110.84749554, 102.14873524, 125.97846122,\n",
              "       134.97556945,  97.94103486, 154.83834668, 119.19482596,\n",
              "       118.44642234, 129.73844557, 124.90795103, 106.14523408,\n",
              "        95.41803733, 134.09747876, 143.37127151, 109.74426911,\n",
              "       117.04354546, 143.34406591, 144.37921766, 120.54868436,\n",
              "       121.84267996, 105.15617367, 134.76705221, 140.00733107,\n",
              "       148.79183664, 110.30668381, 115.28734534, 120.98166448,\n",
              "       124.84707516, 135.09217677, 127.02443269, 117.97330608,\n",
              "       105.87448695, 112.99337025, 113.5779772 , 125.39680014,\n",
              "        94.99803155, 105.60940186, 123.12068157, 153.31888929,\n",
              "       148.22239604, 144.05498814, 120.71663612, 100.77245259,\n",
              "       109.67063433, 122.35822098,  98.38038648, 118.86722442,\n",
              "        93.11651616, 130.73690223,  97.9086016 , 109.1269339 ,\n",
              "       140.47267113, 100.19084753, 136.81045865, 122.26949187,\n",
              "       110.25087802, 108.78553095, 113.1765374 ,  99.80727905,\n",
              "       150.54782163, 151.86819332, 104.674908  , 139.37844039,\n",
              "       115.80877493, 129.15003669, 147.27865215, 138.66390488,\n",
              "       144.5693486 , 108.89736401, 133.19177507, 114.40437092,\n",
              "       100.32065783, 106.39488578, 139.42016234, 138.67648075])"
            ]
          },
          "metadata": {},
          "execution_count": 14
        }
      ]
    },
    {
      "cell_type": "code",
      "source": [
        "# Creat and train the model\n",
        "model=LinearRegression()\n",
        "model.fit(x_train,y_train)"
      ],
      "metadata": {
        "colab": {
          "base_uri": "https://localhost:8080/",
          "height": 80
        },
        "id": "z36RXhUJ-DVe",
        "outputId": "b99d101e-6fd2-4aa6-d4ff-48b9dc6af9f6"
      },
      "execution_count": null,
      "outputs": [
        {
          "output_type": "execute_result",
          "data": {
            "text/plain": [
              "LinearRegression()"
            ],
            "text/html": [
              "<style>#sk-container-id-1 {\n",
              "  /* Definition of color scheme common for light and dark mode */\n",
              "  --sklearn-color-text: #000;\n",
              "  --sklearn-color-text-muted: #666;\n",
              "  --sklearn-color-line: gray;\n",
              "  /* Definition of color scheme for unfitted estimators */\n",
              "  --sklearn-color-unfitted-level-0: #fff5e6;\n",
              "  --sklearn-color-unfitted-level-1: #f6e4d2;\n",
              "  --sklearn-color-unfitted-level-2: #ffe0b3;\n",
              "  --sklearn-color-unfitted-level-3: chocolate;\n",
              "  /* Definition of color scheme for fitted estimators */\n",
              "  --sklearn-color-fitted-level-0: #f0f8ff;\n",
              "  --sklearn-color-fitted-level-1: #d4ebff;\n",
              "  --sklearn-color-fitted-level-2: #b3dbfd;\n",
              "  --sklearn-color-fitted-level-3: cornflowerblue;\n",
              "\n",
              "  /* Specific color for light theme */\n",
              "  --sklearn-color-text-on-default-background: var(--sg-text-color, var(--theme-code-foreground, var(--jp-content-font-color1, black)));\n",
              "  --sklearn-color-background: var(--sg-background-color, var(--theme-background, var(--jp-layout-color0, white)));\n",
              "  --sklearn-color-border-box: var(--sg-text-color, var(--theme-code-foreground, var(--jp-content-font-color1, black)));\n",
              "  --sklearn-color-icon: #696969;\n",
              "\n",
              "  @media (prefers-color-scheme: dark) {\n",
              "    /* Redefinition of color scheme for dark theme */\n",
              "    --sklearn-color-text-on-default-background: var(--sg-text-color, var(--theme-code-foreground, var(--jp-content-font-color1, white)));\n",
              "    --sklearn-color-background: var(--sg-background-color, var(--theme-background, var(--jp-layout-color0, #111)));\n",
              "    --sklearn-color-border-box: var(--sg-text-color, var(--theme-code-foreground, var(--jp-content-font-color1, white)));\n",
              "    --sklearn-color-icon: #878787;\n",
              "  }\n",
              "}\n",
              "\n",
              "#sk-container-id-1 {\n",
              "  color: var(--sklearn-color-text);\n",
              "}\n",
              "\n",
              "#sk-container-id-1 pre {\n",
              "  padding: 0;\n",
              "}\n",
              "\n",
              "#sk-container-id-1 input.sk-hidden--visually {\n",
              "  border: 0;\n",
              "  clip: rect(1px 1px 1px 1px);\n",
              "  clip: rect(1px, 1px, 1px, 1px);\n",
              "  height: 1px;\n",
              "  margin: -1px;\n",
              "  overflow: hidden;\n",
              "  padding: 0;\n",
              "  position: absolute;\n",
              "  width: 1px;\n",
              "}\n",
              "\n",
              "#sk-container-id-1 div.sk-dashed-wrapped {\n",
              "  border: 1px dashed var(--sklearn-color-line);\n",
              "  margin: 0 0.4em 0.5em 0.4em;\n",
              "  box-sizing: border-box;\n",
              "  padding-bottom: 0.4em;\n",
              "  background-color: var(--sklearn-color-background);\n",
              "}\n",
              "\n",
              "#sk-container-id-1 div.sk-container {\n",
              "  /* jupyter's `normalize.less` sets `[hidden] { display: none; }`\n",
              "     but bootstrap.min.css set `[hidden] { display: none !important; }`\n",
              "     so we also need the `!important` here to be able to override the\n",
              "     default hidden behavior on the sphinx rendered scikit-learn.org.\n",
              "     See: https://github.com/scikit-learn/scikit-learn/issues/21755 */\n",
              "  display: inline-block !important;\n",
              "  position: relative;\n",
              "}\n",
              "\n",
              "#sk-container-id-1 div.sk-text-repr-fallback {\n",
              "  display: none;\n",
              "}\n",
              "\n",
              "div.sk-parallel-item,\n",
              "div.sk-serial,\n",
              "div.sk-item {\n",
              "  /* draw centered vertical line to link estimators */\n",
              "  background-image: linear-gradient(var(--sklearn-color-text-on-default-background), var(--sklearn-color-text-on-default-background));\n",
              "  background-size: 2px 100%;\n",
              "  background-repeat: no-repeat;\n",
              "  background-position: center center;\n",
              "}\n",
              "\n",
              "/* Parallel-specific style estimator block */\n",
              "\n",
              "#sk-container-id-1 div.sk-parallel-item::after {\n",
              "  content: \"\";\n",
              "  width: 100%;\n",
              "  border-bottom: 2px solid var(--sklearn-color-text-on-default-background);\n",
              "  flex-grow: 1;\n",
              "}\n",
              "\n",
              "#sk-container-id-1 div.sk-parallel {\n",
              "  display: flex;\n",
              "  align-items: stretch;\n",
              "  justify-content: center;\n",
              "  background-color: var(--sklearn-color-background);\n",
              "  position: relative;\n",
              "}\n",
              "\n",
              "#sk-container-id-1 div.sk-parallel-item {\n",
              "  display: flex;\n",
              "  flex-direction: column;\n",
              "}\n",
              "\n",
              "#sk-container-id-1 div.sk-parallel-item:first-child::after {\n",
              "  align-self: flex-end;\n",
              "  width: 50%;\n",
              "}\n",
              "\n",
              "#sk-container-id-1 div.sk-parallel-item:last-child::after {\n",
              "  align-self: flex-start;\n",
              "  width: 50%;\n",
              "}\n",
              "\n",
              "#sk-container-id-1 div.sk-parallel-item:only-child::after {\n",
              "  width: 0;\n",
              "}\n",
              "\n",
              "/* Serial-specific style estimator block */\n",
              "\n",
              "#sk-container-id-1 div.sk-serial {\n",
              "  display: flex;\n",
              "  flex-direction: column;\n",
              "  align-items: center;\n",
              "  background-color: var(--sklearn-color-background);\n",
              "  padding-right: 1em;\n",
              "  padding-left: 1em;\n",
              "}\n",
              "\n",
              "\n",
              "/* Toggleable style: style used for estimator/Pipeline/ColumnTransformer box that is\n",
              "clickable and can be expanded/collapsed.\n",
              "- Pipeline and ColumnTransformer use this feature and define the default style\n",
              "- Estimators will overwrite some part of the style using the `sk-estimator` class\n",
              "*/\n",
              "\n",
              "/* Pipeline and ColumnTransformer style (default) */\n",
              "\n",
              "#sk-container-id-1 div.sk-toggleable {\n",
              "  /* Default theme specific background. It is overwritten whether we have a\n",
              "  specific estimator or a Pipeline/ColumnTransformer */\n",
              "  background-color: var(--sklearn-color-background);\n",
              "}\n",
              "\n",
              "/* Toggleable label */\n",
              "#sk-container-id-1 label.sk-toggleable__label {\n",
              "  cursor: pointer;\n",
              "  display: flex;\n",
              "  width: 100%;\n",
              "  margin-bottom: 0;\n",
              "  padding: 0.5em;\n",
              "  box-sizing: border-box;\n",
              "  text-align: center;\n",
              "  align-items: start;\n",
              "  justify-content: space-between;\n",
              "  gap: 0.5em;\n",
              "}\n",
              "\n",
              "#sk-container-id-1 label.sk-toggleable__label .caption {\n",
              "  font-size: 0.6rem;\n",
              "  font-weight: lighter;\n",
              "  color: var(--sklearn-color-text-muted);\n",
              "}\n",
              "\n",
              "#sk-container-id-1 label.sk-toggleable__label-arrow:before {\n",
              "  /* Arrow on the left of the label */\n",
              "  content: \"▸\";\n",
              "  float: left;\n",
              "  margin-right: 0.25em;\n",
              "  color: var(--sklearn-color-icon);\n",
              "}\n",
              "\n",
              "#sk-container-id-1 label.sk-toggleable__label-arrow:hover:before {\n",
              "  color: var(--sklearn-color-text);\n",
              "}\n",
              "\n",
              "/* Toggleable content - dropdown */\n",
              "\n",
              "#sk-container-id-1 div.sk-toggleable__content {\n",
              "  max-height: 0;\n",
              "  max-width: 0;\n",
              "  overflow: hidden;\n",
              "  text-align: left;\n",
              "  /* unfitted */\n",
              "  background-color: var(--sklearn-color-unfitted-level-0);\n",
              "}\n",
              "\n",
              "#sk-container-id-1 div.sk-toggleable__content.fitted {\n",
              "  /* fitted */\n",
              "  background-color: var(--sklearn-color-fitted-level-0);\n",
              "}\n",
              "\n",
              "#sk-container-id-1 div.sk-toggleable__content pre {\n",
              "  margin: 0.2em;\n",
              "  border-radius: 0.25em;\n",
              "  color: var(--sklearn-color-text);\n",
              "  /* unfitted */\n",
              "  background-color: var(--sklearn-color-unfitted-level-0);\n",
              "}\n",
              "\n",
              "#sk-container-id-1 div.sk-toggleable__content.fitted pre {\n",
              "  /* unfitted */\n",
              "  background-color: var(--sklearn-color-fitted-level-0);\n",
              "}\n",
              "\n",
              "#sk-container-id-1 input.sk-toggleable__control:checked~div.sk-toggleable__content {\n",
              "  /* Expand drop-down */\n",
              "  max-height: 200px;\n",
              "  max-width: 100%;\n",
              "  overflow: auto;\n",
              "}\n",
              "\n",
              "#sk-container-id-1 input.sk-toggleable__control:checked~label.sk-toggleable__label-arrow:before {\n",
              "  content: \"▾\";\n",
              "}\n",
              "\n",
              "/* Pipeline/ColumnTransformer-specific style */\n",
              "\n",
              "#sk-container-id-1 div.sk-label input.sk-toggleable__control:checked~label.sk-toggleable__label {\n",
              "  color: var(--sklearn-color-text);\n",
              "  background-color: var(--sklearn-color-unfitted-level-2);\n",
              "}\n",
              "\n",
              "#sk-container-id-1 div.sk-label.fitted input.sk-toggleable__control:checked~label.sk-toggleable__label {\n",
              "  background-color: var(--sklearn-color-fitted-level-2);\n",
              "}\n",
              "\n",
              "/* Estimator-specific style */\n",
              "\n",
              "/* Colorize estimator box */\n",
              "#sk-container-id-1 div.sk-estimator input.sk-toggleable__control:checked~label.sk-toggleable__label {\n",
              "  /* unfitted */\n",
              "  background-color: var(--sklearn-color-unfitted-level-2);\n",
              "}\n",
              "\n",
              "#sk-container-id-1 div.sk-estimator.fitted input.sk-toggleable__control:checked~label.sk-toggleable__label {\n",
              "  /* fitted */\n",
              "  background-color: var(--sklearn-color-fitted-level-2);\n",
              "}\n",
              "\n",
              "#sk-container-id-1 div.sk-label label.sk-toggleable__label,\n",
              "#sk-container-id-1 div.sk-label label {\n",
              "  /* The background is the default theme color */\n",
              "  color: var(--sklearn-color-text-on-default-background);\n",
              "}\n",
              "\n",
              "/* On hover, darken the color of the background */\n",
              "#sk-container-id-1 div.sk-label:hover label.sk-toggleable__label {\n",
              "  color: var(--sklearn-color-text);\n",
              "  background-color: var(--sklearn-color-unfitted-level-2);\n",
              "}\n",
              "\n",
              "/* Label box, darken color on hover, fitted */\n",
              "#sk-container-id-1 div.sk-label.fitted:hover label.sk-toggleable__label.fitted {\n",
              "  color: var(--sklearn-color-text);\n",
              "  background-color: var(--sklearn-color-fitted-level-2);\n",
              "}\n",
              "\n",
              "/* Estimator label */\n",
              "\n",
              "#sk-container-id-1 div.sk-label label {\n",
              "  font-family: monospace;\n",
              "  font-weight: bold;\n",
              "  display: inline-block;\n",
              "  line-height: 1.2em;\n",
              "}\n",
              "\n",
              "#sk-container-id-1 div.sk-label-container {\n",
              "  text-align: center;\n",
              "}\n",
              "\n",
              "/* Estimator-specific */\n",
              "#sk-container-id-1 div.sk-estimator {\n",
              "  font-family: monospace;\n",
              "  border: 1px dotted var(--sklearn-color-border-box);\n",
              "  border-radius: 0.25em;\n",
              "  box-sizing: border-box;\n",
              "  margin-bottom: 0.5em;\n",
              "  /* unfitted */\n",
              "  background-color: var(--sklearn-color-unfitted-level-0);\n",
              "}\n",
              "\n",
              "#sk-container-id-1 div.sk-estimator.fitted {\n",
              "  /* fitted */\n",
              "  background-color: var(--sklearn-color-fitted-level-0);\n",
              "}\n",
              "\n",
              "/* on hover */\n",
              "#sk-container-id-1 div.sk-estimator:hover {\n",
              "  /* unfitted */\n",
              "  background-color: var(--sklearn-color-unfitted-level-2);\n",
              "}\n",
              "\n",
              "#sk-container-id-1 div.sk-estimator.fitted:hover {\n",
              "  /* fitted */\n",
              "  background-color: var(--sklearn-color-fitted-level-2);\n",
              "}\n",
              "\n",
              "/* Specification for estimator info (e.g. \"i\" and \"?\") */\n",
              "\n",
              "/* Common style for \"i\" and \"?\" */\n",
              "\n",
              ".sk-estimator-doc-link,\n",
              "a:link.sk-estimator-doc-link,\n",
              "a:visited.sk-estimator-doc-link {\n",
              "  float: right;\n",
              "  font-size: smaller;\n",
              "  line-height: 1em;\n",
              "  font-family: monospace;\n",
              "  background-color: var(--sklearn-color-background);\n",
              "  border-radius: 1em;\n",
              "  height: 1em;\n",
              "  width: 1em;\n",
              "  text-decoration: none !important;\n",
              "  margin-left: 0.5em;\n",
              "  text-align: center;\n",
              "  /* unfitted */\n",
              "  border: var(--sklearn-color-unfitted-level-1) 1pt solid;\n",
              "  color: var(--sklearn-color-unfitted-level-1);\n",
              "}\n",
              "\n",
              ".sk-estimator-doc-link.fitted,\n",
              "a:link.sk-estimator-doc-link.fitted,\n",
              "a:visited.sk-estimator-doc-link.fitted {\n",
              "  /* fitted */\n",
              "  border: var(--sklearn-color-fitted-level-1) 1pt solid;\n",
              "  color: var(--sklearn-color-fitted-level-1);\n",
              "}\n",
              "\n",
              "/* On hover */\n",
              "div.sk-estimator:hover .sk-estimator-doc-link:hover,\n",
              ".sk-estimator-doc-link:hover,\n",
              "div.sk-label-container:hover .sk-estimator-doc-link:hover,\n",
              ".sk-estimator-doc-link:hover {\n",
              "  /* unfitted */\n",
              "  background-color: var(--sklearn-color-unfitted-level-3);\n",
              "  color: var(--sklearn-color-background);\n",
              "  text-decoration: none;\n",
              "}\n",
              "\n",
              "div.sk-estimator.fitted:hover .sk-estimator-doc-link.fitted:hover,\n",
              ".sk-estimator-doc-link.fitted:hover,\n",
              "div.sk-label-container:hover .sk-estimator-doc-link.fitted:hover,\n",
              ".sk-estimator-doc-link.fitted:hover {\n",
              "  /* fitted */\n",
              "  background-color: var(--sklearn-color-fitted-level-3);\n",
              "  color: var(--sklearn-color-background);\n",
              "  text-decoration: none;\n",
              "}\n",
              "\n",
              "/* Span, style for the box shown on hovering the info icon */\n",
              ".sk-estimator-doc-link span {\n",
              "  display: none;\n",
              "  z-index: 9999;\n",
              "  position: relative;\n",
              "  font-weight: normal;\n",
              "  right: .2ex;\n",
              "  padding: .5ex;\n",
              "  margin: .5ex;\n",
              "  width: min-content;\n",
              "  min-width: 20ex;\n",
              "  max-width: 50ex;\n",
              "  color: var(--sklearn-color-text);\n",
              "  box-shadow: 2pt 2pt 4pt #999;\n",
              "  /* unfitted */\n",
              "  background: var(--sklearn-color-unfitted-level-0);\n",
              "  border: .5pt solid var(--sklearn-color-unfitted-level-3);\n",
              "}\n",
              "\n",
              ".sk-estimator-doc-link.fitted span {\n",
              "  /* fitted */\n",
              "  background: var(--sklearn-color-fitted-level-0);\n",
              "  border: var(--sklearn-color-fitted-level-3);\n",
              "}\n",
              "\n",
              ".sk-estimator-doc-link:hover span {\n",
              "  display: block;\n",
              "}\n",
              "\n",
              "/* \"?\"-specific style due to the `<a>` HTML tag */\n",
              "\n",
              "#sk-container-id-1 a.estimator_doc_link {\n",
              "  float: right;\n",
              "  font-size: 1rem;\n",
              "  line-height: 1em;\n",
              "  font-family: monospace;\n",
              "  background-color: var(--sklearn-color-background);\n",
              "  border-radius: 1rem;\n",
              "  height: 1rem;\n",
              "  width: 1rem;\n",
              "  text-decoration: none;\n",
              "  /* unfitted */\n",
              "  color: var(--sklearn-color-unfitted-level-1);\n",
              "  border: var(--sklearn-color-unfitted-level-1) 1pt solid;\n",
              "}\n",
              "\n",
              "#sk-container-id-1 a.estimator_doc_link.fitted {\n",
              "  /* fitted */\n",
              "  border: var(--sklearn-color-fitted-level-1) 1pt solid;\n",
              "  color: var(--sklearn-color-fitted-level-1);\n",
              "}\n",
              "\n",
              "/* On hover */\n",
              "#sk-container-id-1 a.estimator_doc_link:hover {\n",
              "  /* unfitted */\n",
              "  background-color: var(--sklearn-color-unfitted-level-3);\n",
              "  color: var(--sklearn-color-background);\n",
              "  text-decoration: none;\n",
              "}\n",
              "\n",
              "#sk-container-id-1 a.estimator_doc_link.fitted:hover {\n",
              "  /* fitted */\n",
              "  background-color: var(--sklearn-color-fitted-level-3);\n",
              "}\n",
              "</style><div id=\"sk-container-id-1\" class=\"sk-top-container\"><div class=\"sk-text-repr-fallback\"><pre>LinearRegression()</pre><b>In a Jupyter environment, please rerun this cell to show the HTML representation or trust the notebook. <br />On GitHub, the HTML representation is unable to render, please try loading this page with nbviewer.org.</b></div><div class=\"sk-container\" hidden><div class=\"sk-item\"><div class=\"sk-estimator fitted sk-toggleable\"><input class=\"sk-toggleable__control sk-hidden--visually\" id=\"sk-estimator-id-1\" type=\"checkbox\" checked><label for=\"sk-estimator-id-1\" class=\"sk-toggleable__label fitted sk-toggleable__label-arrow\"><div><div>LinearRegression</div></div><div><a class=\"sk-estimator-doc-link fitted\" rel=\"noreferrer\" target=\"_blank\" href=\"https://scikit-learn.org/1.6/modules/generated/sklearn.linear_model.LinearRegression.html\">?<span>Documentation for LinearRegression</span></a><span class=\"sk-estimator-doc-link fitted\">i<span>Fitted</span></span></div></label><div class=\"sk-toggleable__content fitted\"><pre>LinearRegression()</pre></div> </div></div></div></div>"
            ]
          },
          "metadata": {},
          "execution_count": 15
        }
      ]
    },
    {
      "cell_type": "code",
      "source": [
        "print(f\"Intercept:{model.intercept_}\")\n",
        "print(f\"Coefficient:{model.coef_[0]}\")"
      ],
      "metadata": {
        "colab": {
          "base_uri": "https://localhost:8080/"
        },
        "id": "oAjdt5jnAoAn",
        "outputId": "57f72379-b334-4868-8649-de14f28e764b"
      },
      "execution_count": null,
      "outputs": [
        {
          "output_type": "stream",
          "name": "stdout",
          "text": [
            "Intercept:52.219639166190746\n",
            "Coefficient:2.899661828740139\n"
          ]
        }
      ]
    },
    {
      "cell_type": "code",
      "source": [
        "# Predict\n",
        "y_pred=model.predict(x_test)"
      ],
      "metadata": {
        "id": "NQ780ymuBnZB"
      },
      "execution_count": null,
      "outputs": []
    },
    {
      "cell_type": "code",
      "source": [
        "y_pred"
      ],
      "metadata": {
        "colab": {
          "base_uri": "https://localhost:8080/"
        },
        "id": "7sEpLWY2B2gk",
        "outputId": "5e96e089-78bd-45cc-ceb9-e7e4640aff01"
      },
      "execution_count": null,
      "outputs": [
        {
          "output_type": "execute_result",
          "data": {
            "text/plain": [
              "array([ 99.40052104, 147.60850082, 140.4995402 , 134.13637817,\n",
              "       110.72205529, 121.2404343 , 112.65698031, 145.76872776,\n",
              "        96.90832804, 117.43536032, 120.76445625, 130.94805892,\n",
              "       143.00581414, 150.74351004, 102.65022399, 104.76259252,\n",
              "       140.44303028, 100.0086556 , 143.9906096 , 105.60381244])"
            ]
          },
          "metadata": {},
          "execution_count": 19
        }
      ]
    },
    {
      "cell_type": "code",
      "source": [
        "x_test"
      ],
      "metadata": {
        "colab": {
          "base_uri": "https://localhost:8080/"
        },
        "id": "BQnOBAd2CGQR",
        "outputId": "828fe514-10d9-4207-c4ee-0f3deb6bbe51"
      },
      "execution_count": null,
      "outputs": [
        {
          "output_type": "execute_result",
          "data": {
            "text/plain": [
              "array([[16.27116701],\n",
              "       [32.89654701],\n",
              "       [30.44489539],\n",
              "       [28.25044569],\n",
              "       [20.17559963],\n",
              "       [23.80304987],\n",
              "       [20.84289297],\n",
              "       [32.26206852],\n",
              "       [15.41168989],\n",
              "       [22.49080238],\n",
              "       [23.63890037],\n",
              "       [27.15089704],\n",
              "       [31.30922857],\n",
              "       [33.97771075],\n",
              "       [17.39188492],\n",
              "       [18.12037281],\n",
              "       [30.42540693],\n",
              "       [16.48089303],\n",
              "       [31.64885282],\n",
              "       [18.41048247]])"
            ]
          },
          "metadata": {},
          "execution_count": 20
        }
      ]
    },
    {
      "cell_type": "code",
      "source": [
        "# Evaluate model\n",
        "mae=mean_squared_error(y_test,y_pred)\n",
        "mse=mean_squared_error(y_test,y_pred)\n",
        "r2=r2_score(y_test,y_pred)"
      ],
      "metadata": {
        "id": "wai8no1NCTrV"
      },
      "execution_count": null,
      "outputs": []
    },
    {
      "cell_type": "code",
      "source": [
        "# Output of Evaluate model\n",
        "print(f\"Mean Absolute Error:{mae}\")\n",
        "print(f\"Mean Squared Error:{mse}\")\n",
        "print(f\"R2 Score:{r2}\")"
      ],
      "metadata": {
        "colab": {
          "base_uri": "https://localhost:8080/"
        },
        "id": "5mtjJ-RxDXe4",
        "outputId": "90a09a8f-14b8-4ab5-ccca-78a23b9b26e9"
      },
      "execution_count": null,
      "outputs": [
        {
          "output_type": "stream",
          "name": "stdout",
          "text": [
            "Mean Absolute Error:16.34248784292506\n",
            "Mean Squared Error:16.34248784292506\n",
            "R2 Score:0.9506549318923121\n"
          ]
        }
      ]
    },
    {
      "cell_type": "code",
      "source": [
        "# Visualization\n",
        "plt.scatter(x_test,y_test,color='blue',label='Actual Data')\n",
        "plt.plot(x_test,y_pred,color='red',linewidth=2,label='Regression Line')\n",
        "plt.xlabel('BMI')\n",
        "plt.ylabel('Disease Progression')\n",
        "plt.legend()\n",
        "plt.title('Linear Regression on Dataset')\n",
        "plt.show()"
      ],
      "metadata": {
        "colab": {
          "base_uri": "https://localhost:8080/",
          "height": 472
        },
        "id": "T_Qvb3vsIwrz",
        "outputId": "d551a55c-f8c3-4a90-e7be-cfbabced0c2b"
      },
      "execution_count": null,
      "outputs": [
        {
          "output_type": "display_data",
          "data": {
            "text/plain": [
              "<Figure size 640x480 with 1 Axes>"
            ],
            "image/png": "[encoded data removed]"
          },
          "metadata": {}
        }
      ]
    },
    {
      "cell_type": "code",
      "source": [
        "# Function to predict disease progression for a given BMI\n",
        "def predict_value(bmi_value):\n",
        "  prediction=model.predict(np.array([[bmi_value]]))\n",
        "  print(f\"Predicted disease progression for BMI{bmi_value}:{prediction[0]}\")\n",
        "  return prediction[0]\n",
        "\n",
        "  # Example prediction\n",
        "  bmi_input= 26 # Change this value as needed\n",
        "  predict_value(bmi_input)"
      ],
      "metadata": {
        "id": "y1jM5exSLVQs"
      },
      "execution_count": null,
      "outputs": []
    }
  ]
}