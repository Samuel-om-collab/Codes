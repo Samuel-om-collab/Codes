{
  "cells": [
    {
      "cell_type": "code",
      "execution_count": null,
      "metadata": {
        "id": "Zxz5UmVwP6qm"
      },
      "outputs": [],
      "source": [
        "import pandas as pd\n",
        "import numpy as np\n",
        "import seaborn as sns\n",
        "import matplotlib.pyplot as plt\n",
        "from scipy import stats"
      ]
    },
    {
      "cell_type": "code",
      "execution_count": null,
      "metadata": {
        "id": "NIx1YINpQ0Kr"
      },
      "outputs": [],
      "source": [
        "# Step 1: create a sample data set\n",
        "np.random.seed(42)\n",
        "data={\n",
        "    'Group':np.random.choice(['A','B','C'],size=300),\n",
        "    'Feature1':np.random.normal(50,10,300), # Normal distribution\n",
        "    'Feature2':np.random.normal(55,15,300),\n",
        "    'Category1':np.random.choice(['Yes','No'],size =300),\n",
        "    'Category2':np.random.choice(['High','Medium','Low'],size=300)\n",
        "}\n",
        "df=pd.DataFrame(data)"
      ]
    },
    {
      "cell_type": "code",
      "execution_count": null,
      "metadata": {
        "id": "EQx_1tWaW1xg"
      },
      "outputs": [],
      "source": [
        "# Step 1: create a sample data set\n",
        "np.random.seed(42)\n",
        "data={\n",
        "    'Group':np.random.choice(['A','B','C'],size=300),\n",
        "    'Feature1':np.random.normal(50,10,300), # Normal distribution\n",
        "    'Feature2':np.random.normal(55,15,300),\n",
        "    'Category1':np.random.choice(['Yes','No'],size =300),\n",
        "    'Category2':np.random.choice(['High','Medium','Low'],size=300)\n",
        "}\n",
        "df=pd.DataFrame(data)"
      ]
    },
    {
      "cell_type": "code",
      "execution_count": null,
      "metadata": {
        "colab": {
          "base_uri": "https://localhost:8080/"
        },
        "id": "-MrxahUEbtuV",
        "outputId": "268a789e-f090-45a2-83c2-89d495480495"
      },
      "outputs": [
        {
          "output_type": "stream",
          "name": "stdout",
          "text": [
            "T-Test Result:t-stat+-0.241931,p-value=0.809093\n"
          ]
        }
      ],
      "source": [
        "# Step 3: Hypothesis Testing\n",
        "# 1. T-Test Comparing means of two groups (Feauture1 in Group A vs Group B)\n",
        "group_A=df[df['Group']=='A']['Feature1']\n",
        "group_B=df[df['Group']=='B']['Feature1']\n",
        "t_stat,p_val,=stats.ttest_ind(group_A,group_B)\n",
        "print(f\"T-Test Result:t-stat+{t_stat:3f},p-value={p_val:3f}\")"
      ]
    },
    {
      "cell_type": "code",
      "execution_count": null,
      "metadata": {
        "colab": {
          "base_uri": "https://localhost:8080/"
        },
        "id": "fa-EY9eIfMTK",
        "outputId": "3c292f87-643c-456a-ec0e-8276104b03d6"
      },
      "outputs": [
        {
          "output_type": "stream",
          "name": "stdout",
          "text": [
            "ANOVA Result:F-stat=0.440,p-value=0.644\n"
          ]
        }
      ],
      "source": [
        "# 2. ANOVA: Comparing means across multiple groups(Feature1 across A,B,C)\n",
        "group_C=df[df['Group']=='C']['Feature1']\n",
        "anova_stat,anova_p=stats.f_oneway(group_A,group_B,group_C)\n",
        "print(f\"ANOVA Result:F-stat={anova_stat:.3f},p-value={anova_p:.3f}\")"
      ]
    },
    {
      "cell_type": "code",
      "execution_count": null,
      "metadata": {
        "colab": {
          "base_uri": "https://localhost:8080/"
        },
        "id": "k7c9iI1IhMOF",
        "outputId": "759ab6c6-44b6-4995-aaa9-8c3e35673954"
      },
      "outputs": [
        {
          "output_type": "stream",
          "name": "stdout",
          "text": [
            "Chi-Square Teat:chi2-stat=0.019,p-value=0.991\n"
          ]
        }
      ],
      "source": [
        "# 3. Chi-Square Test: Relationship between two categorical variables\n",
        "contingency_table=pd.crosstab(df['Category1'],df['Category2'])\n",
        "chi2_stat,chi2_p,_,_=stats.chi2_contingency(contingency_table)\n",
        "print(f\"Chi-Square Teat:chi2-stat={chi2_stat:.3f},p-value={chi2_p:.3f}\")"
      ]
    },
    {
      "cell_type": "code",
      "execution_count": null,
      "metadata": {
        "colab": {
          "base_uri": "https://localhost:8080/"
        },
        "id": "6cbZXbJkjOK4",
        "outputId": "a75e9cd6-1019-4fdd-ac1b-0e88bf52d6a2"
      },
      "outputs": [
        {
          "output_type": "stream",
          "name": "stdout",
          "text": [
            "Kolomogorov-Smirnow Test:KS-stat=0.040,p-value0.991\n"
          ]
        }
      ],
      "source": [
        "# 4. Kolomogorov-Smirnov Test: Check if Feature1 folllows a normal distribution\n",
        "ks_stat,ks_p=stats.kstest(df['Feature1'],'norm',args=(df['Feature1'].mean(),df['Feature1'].std()))\n",
        "print(f\"Kolomogorov-Smirnow Test:KS-stat={ks_stat:.3f},p-value{chi2_p:.3f}\")"
      ]
    }
  ],
  "metadata": {
    "colab": {
      "provenance": []
    },
    "kernelspec": {
      "display_name": "Python 3",
      "name": "python3"
    },
    "language_info": {
      "name": "python"
    }
  },
  "nbformat": 4,
  "nbformat_minor": 0
}