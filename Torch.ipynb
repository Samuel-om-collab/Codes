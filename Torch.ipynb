{
  "nbformat": 4,
  "nbformat_minor": 0,
  "metadata": {
    "colab": {
      "provenance": []
    },
    "kernelspec": {
      "name": "python3",
      "display_name": "Python 3"
    },
    "language_info": {
      "name": "python"
    }
  },
  "cells": [
    {
      "cell_type": "code",
      "execution_count": null,
      "metadata": {
        "colab": {
          "base_uri": "https://localhost:8080/"
        },
        "id": "lpu0VGOzUUJD",
        "outputId": "18691113-726a-45ba-b2ac-f45b7fcb0593"
      },
      "outputs": [
        {
          "output_type": "stream",
          "name": "stdout",
          "text": [
            "\n",
            "Usage:   \n",
            "  pip3 install [options] <requirement specifier> [package-index-options] ...\n",
            "  pip3 install [options] -r <requirements file> [package-index-options] ...\n",
            "  pip3 install [options] [-e] <vcs project url> ...\n",
            "  pip3 install [options] [-e] <local project path> ...\n",
            "  pip3 install [options] <archive url/path> ...\n",
            "\n",
            "no such option: --quet\n"
          ]
        }
      ],
      "source": [
        "!pip install torch torchvision torchaudio --quet"
      ]
    },
    {
      "cell_type": "code",
      "source": [
        "import torch\n",
        "import torch.nn as nn # Neural networks module\n",
        "import torch.optim as optim # Optimizers like SGD, Adam\n",
        "import torchvision # Datasets and image processing\n",
        "import torchvision.transforms as transforms # Data transfomations"
      ],
      "metadata": {
        "id": "kM4bKCtFXTU0"
      },
      "execution_count": null,
      "outputs": []
    },
    {
      "cell_type": "code",
      "source": [
        "device = torch.device(\"cuda\" if torch.cuda.is_available() else \"cpu\")\n",
        "print(\"Using device:\", device)"
      ],
      "metadata": {
        "colab": {
          "base_uri": "https://localhost:8080/"
        },
        "id": "XoHVD6yWZi58",
        "outputId": "660352d5-ecc4-46a0-9918-4cea5e361eed"
      },
      "execution_count": null,
      "outputs": [
        {
          "output_type": "stream",
          "name": "stdout",
          "text": [
            "Using device: cpu\n"
          ]
        }
      ]
    },
    {
      "cell_type": "code",
      "source": [
        "# Create a random tensor(2*3)\n",
        "tensor = torch.rand(2, 3)\n",
        "print(tensor)"
      ],
      "metadata": {
        "colab": {
          "base_uri": "https://localhost:8080/"
        },
        "id": "c1TBNsIsbZvT",
        "outputId": "3b410a46-29c4-4910-bdc0-19df9c9a5460"
      },
      "execution_count": null,
      "outputs": [
        {
          "output_type": "stream",
          "name": "stdout",
          "text": [
            "tensor([[0.1360, 0.2069, 0.7453],\n",
            "        [0.9990, 0.5817, 0.1000]])\n"
          ]
        }
      ]
    },
    {
      "cell_type": "code",
      "source": [
        "# Define data transformations (convert to tensors $ normalize)\n",
        "transform = transforms.Compose([\n",
        "    transforms.ToTensor(),\n",
        "    transforms.Normalize((0.5,), (0.5,))\n",
        "])\n",
        "# Download and load dataset\n",
        "trainset = torchvision.datasets.MNIST(root='./data', train=True, download=True, transform=transform) # Use the 'transform' variable here\n",
        "trainloader = torch.utils.data.DataLoader(trainset, batch_size=64, shuffle=True)\n",
        "\n",
        "# Get a batch of images\n",
        "images, labels = next(iter(trainloader))\n",
        "print(\"Batch shape:\", images.shape)"
      ],
      "metadata": {
        "colab": {
          "base_uri": "https://localhost:8080/"
        },
        "id": "Jejvl3KBk3Mx",
        "outputId": "d321e8a5-09f8-43e0-821d-ed59db03785a"
      },
      "execution_count": null,
      "outputs": [
        {
          "output_type": "stream",
          "name": "stdout",
          "text": [
            "Batch shape: torch.Size([64, 1, 28, 28])\n"
          ]
        }
      ]
    },
    {
      "cell_type": "code",
      "source": [
        "class SimpleNN(nn.Module):\n",
        "    def __init__(self):\n",
        "        super(SimpleNN, self).__init__()\n",
        "        self.fc1=nn.Linear(28*28, 128) # Fully connected layer\n",
        "        self.fc2=nn.Linear(128, 10) # Output layer (10 classes)\n",
        "\n",
        "    def forward(self, x):\n",
        "        x=x.view(x.size(0), -1) # Flatten the input\n",
        "        x=F.relu(self.fc1(x)) # Apply ReLU activation\n",
        "        x=self.fc2(x)\n",
        "\n",
        "# Initialize model and move to GPU if available\n",
        "model = SimpleNN().to(device)\n",
        "print(model)"
      ],
      "metadata": {
        "colab": {
          "base_uri": "https://localhost:8080/"
        },
        "id": "-cbmo372gtzT",
        "outputId": "6e6c85aa-aaa2-471e-c815-e2486822c1d6"
      },
      "execution_count": null,
      "outputs": [
        {
          "output_type": "stream",
          "name": "stdout",
          "text": [
            "SimpleNN(\n",
            "  (fc1): Linear(in_features=784, out_features=128, bias=True)\n",
            "  (fc2): Linear(in_features=128, out_features=10, bias=True)\n",
            ")\n"
          ]
        }
      ]
    }
  ]
}