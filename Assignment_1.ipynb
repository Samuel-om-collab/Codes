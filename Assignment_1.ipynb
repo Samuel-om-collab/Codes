{
  "nbformat": 4,
  "nbformat_minor": 0,
  "metadata": {
    "colab": {
      "provenance": []
    },
    "kernelspec": {
      "name": "python3",
      "display_name": "Python 3"
    },
    "language_info": {
      "name": "python"
    }
  },
  "cells": [
    {
      "cell_type": "code",
      "execution_count": null,
      "metadata": {
        "id": "-5oIUkNfu2vd"
      },
      "outputs": [],
      "source": [
        "import pandas as pd # Importing pandas for manupilation\n",
        "import numpy as np # Importing numpy for numerical computations\n",
        "from sklearn.preprocessing import StandardScaler,MinMaxScaler,LabelEncoder,OneHotEncoder\n",
        "from sklearn.model_selection import train_test_split"
      ]
    },
    {
      "cell_type": "code",
      "source": [
        "# Step 1: Load Dataset (CSV file will be created separately)\n",
        "df = pd.read_csv('/content/MTA_Daily_Ridership.csv') # Reading dataset into a pandas DataFrame\n",
        "print(\"Original Data:\")\n",
        "print(df.head()) #Display the first few rows of the data set"
      ],
      "metadata": {
        "colab": {
          "base_uri": "https://localhost:8080/"
        },
        "id": "knxEu0TdvobF",
        "outputId": "f005236f-30ec-4c9a-cde3-e488d0f4975f"
      },
      "execution_count": null,
      "outputs": [
        {
          "output_type": "stream",
          "name": "stdout",
          "text": [
            "Original Data:\n",
            "         Date  Subways: Total Estimated Ridership  \\\n",
            "0  2020-03-01                             2212965   \n",
            "1  2020-03-02                             5329915   \n",
            "2  2020-03-03                             5481103   \n",
            "3  2020-03-04                             5498809   \n",
            "4  2020-03-05                             5496453   \n",
            "\n",
            "   Subways: % of Comparable Pre-Pandemic Day  \\\n",
            "0                                         97   \n",
            "1                                         96   \n",
            "2                                         98   \n",
            "3                                         99   \n",
            "4                                         99   \n",
            "\n",
            "   Buses: Total Estimated Ridership  Buses: % of Comparable Pre-Pandemic Day  \\\n",
            "0                            984908                                       99   \n",
            "1                           2209066                                       99   \n",
            "2                           2228608                                       99   \n",
            "3                           2177165                                       97   \n",
            "4                           2244515                                      100   \n",
            "\n",
            "   LIRR: Total Estimated Ridership  LIRR: % of Comparable Pre-Pandemic Day  \\\n",
            "0                            86790                                     100   \n",
            "1                           321569                                     103   \n",
            "2                           319727                                     102   \n",
            "3                           311662                                      99   \n",
            "4                           307597                                      98   \n",
            "\n",
            "   Metro-North: Total Estimated Ridership  \\\n",
            "0                                   55825   \n",
            "1                                  180701   \n",
            "2                                  190648   \n",
            "3                                  192689   \n",
            "4                                  194386   \n",
            "\n",
            "   Metro-North: % of Comparable Pre-Pandemic Day  \\\n",
            "0                                             59   \n",
            "1                                             66   \n",
            "2                                             69   \n",
            "3                                             70   \n",
            "4                                             70   \n",
            "\n",
            "   Access-A-Ride: Total Scheduled Trips  \\\n",
            "0                                 19922   \n",
            "1                                 30338   \n",
            "2                                 32767   \n",
            "3                                 34297   \n",
            "4                                 33209   \n",
            "\n",
            "   Access-A-Ride: % of Comparable Pre-Pandemic Day  \\\n",
            "0                                              113   \n",
            "1                                              102   \n",
            "2                                              110   \n",
            "3                                              115   \n",
            "4                                              112   \n",
            "\n",
            "   Bridges and Tunnels: Total Traffic  \\\n",
            "0                              786960   \n",
            "1                              874619   \n",
            "2                              882175   \n",
            "3                              905558   \n",
            "4                              929298   \n",
            "\n",
            "   Bridges and Tunnels: % of Comparable Pre-Pandemic Day  \\\n",
            "0                                                 98       \n",
            "1                                                 95       \n",
            "2                                                 96       \n",
            "3                                                 98       \n",
            "4                                                101       \n",
            "\n",
            "   Staten Island Railway: Total Estimated Ridership  \\\n",
            "0                                              1636   \n",
            "1                                             17140   \n",
            "2                                             17453   \n",
            "3                                             17136   \n",
            "4                                             17203   \n",
            "\n",
            "   Staten Island Railway: % of Comparable Pre-Pandemic Day  \n",
            "0                                                 52        \n",
            "1                                                107        \n",
            "2                                                109        \n",
            "3                                                107        \n",
            "4                                                108        \n"
          ]
        }
      ]
    },
    {
      "cell_type": "code",
      "source": [
        "print(df.tail()) # enable view the last five rows of the data set"
      ],
      "metadata": {
        "colab": {
          "base_uri": "https://localhost:8080/"
        },
        "id": "cfbAUlmev5LI",
        "outputId": "e37b64f9-8573-4bbb-c9b4-8cf1efebcaee"
      },
      "execution_count": null,
      "outputs": [
        {
          "output_type": "stream",
          "name": "stdout",
          "text": [
            "            Date  Subways: Total Estimated Ridership  \\\n",
            "1701  2024-10-27                             2215973   \n",
            "1702  2024-10-28                             3985381   \n",
            "1703  2024-10-29                             4391065   \n",
            "1704  2024-10-30                             4450028   \n",
            "1705  2024-10-31                             4027166   \n",
            "\n",
            "      Subways: % of Comparable Pre-Pandemic Day  \\\n",
            "1701                                         90   \n",
            "1702                                         69   \n",
            "1703                                         76   \n",
            "1704                                         77   \n",
            "1705                                         70   \n",
            "\n",
            "      Buses: Total Estimated Ridership  \\\n",
            "1701                            737246   \n",
            "1702                           1460653   \n",
            "1703                           1528993   \n",
            "1704                           1553250   \n",
            "1705                           1297891   \n",
            "\n",
            "      Buses: % of Comparable Pre-Pandemic Day  \\\n",
            "1701                                       74   \n",
            "1702                                       65   \n",
            "1703                                       68   \n",
            "1704                                       69   \n",
            "1705                                       58   \n",
            "\n",
            "      LIRR: Total Estimated Ridership  LIRR: % of Comparable Pre-Pandemic Day  \\\n",
            "1701                           120849                                     133   \n",
            "1702                           253923                                      81   \n",
            "1703                           272526                                      87   \n",
            "1704                           267007                                      85   \n",
            "1705                           257756                                      82   \n",
            "\n",
            "      Metro-North: Total Estimated Ridership  \\\n",
            "1701                                  115917   \n",
            "1702                                  229873   \n",
            "1703                                  249585   \n",
            "1704                                  246035   \n",
            "1705                                  221856   \n",
            "\n",
            "      Metro-North: % of Comparable Pre-Pandemic Day  \\\n",
            "1701                                            110   \n",
            "1702                                             79   \n",
            "1703                                             86   \n",
            "1704                                             85   \n",
            "1705                                             76   \n",
            "\n",
            "      Access-A-Ride: Total Scheduled Trips  \\\n",
            "1701                                 23888   \n",
            "1702                                 35666   \n",
            "1703                                 38621   \n",
            "1704                                 40468   \n",
            "1705                                 37639   \n",
            "\n",
            "      Access-A-Ride: % of Comparable Pre-Pandemic Day  \\\n",
            "1701                                              130   \n",
            "1702                                              120   \n",
            "1703                                              130   \n",
            "1704                                              136   \n",
            "1705                                              126   \n",
            "\n",
            "      Bridges and Tunnels: Total Traffic  \\\n",
            "1701                              918610   \n",
            "1702                              926409   \n",
            "1703                              939734   \n",
            "1704                              970092   \n",
            "1705                              952775   \n",
            "\n",
            "      Bridges and Tunnels: % of Comparable Pre-Pandemic Day  \\\n",
            "1701                                                109       \n",
            "1702                                                100       \n",
            "1703                                                101       \n",
            "1704                                                105       \n",
            "1705                                                103       \n",
            "\n",
            "      Staten Island Railway: Total Estimated Ridership  \\\n",
            "1701                                              2568   \n",
            "1702                                              7829   \n",
            "1703                                              8867   \n",
            "1704                                              8843   \n",
            "1705                                              7419   \n",
            "\n",
            "      Staten Island Railway: % of Comparable Pre-Pandemic Day  \n",
            "1701                                                 68        \n",
            "1702                                                 44        \n",
            "1703                                                 50        \n",
            "1704                                                 50        \n",
            "1705                                                 42        \n"
          ]
        }
      ]
    },
    {
      "cell_type": "code",
      "source": [
        "# Step 2: Handling Missing Values\n",
        "print(\"\\nChecking for missing values:\")\n",
        "print(df.isnull().sum()) # Count missing values per column\n",
        "df = df.dropna() # Drop rows with missing values (Alternative: df.fillna(value) to fill missing values)"
      ],
      "metadata": {
        "colab": {
          "base_uri": "https://localhost:8080/"
        },
        "id": "MVytpsaewJTm",
        "outputId": "cc901e75-0c43-4e8c-d4f3-b882ebe5b3b0"
      },
      "execution_count": null,
      "outputs": [
        {
          "output_type": "stream",
          "name": "stdout",
          "text": [
            "\n",
            "Checking for missing values:\n",
            "Date                                                       0\n",
            "Subways: Total Estimated Ridership                         0\n",
            "Subways: % of Comparable Pre-Pandemic Day                  0\n",
            "Buses: Total Estimated Ridership                           0\n",
            "Buses: % of Comparable Pre-Pandemic Day                    0\n",
            "LIRR: Total Estimated Ridership                            0\n",
            "LIRR: % of Comparable Pre-Pandemic Day                     0\n",
            "Metro-North: Total Estimated Ridership                     0\n",
            "Metro-North: % of Comparable Pre-Pandemic Day              0\n",
            "Access-A-Ride: Total Scheduled Trips                       0\n",
            "Access-A-Ride: % of Comparable Pre-Pandemic Day            0\n",
            "Bridges and Tunnels: Total Traffic                         0\n",
            "Bridges and Tunnels: % of Comparable Pre-Pandemic Day      0\n",
            "Staten Island Railway: Total Estimated Ridership           0\n",
            "Staten Island Railway: % of Comparable Pre-Pandemic Day    0\n",
            "dtype: int64\n"
          ]
        }
      ]
    },
    {
      "cell_type": "code",
      "source": [
        "# Step 2: Handling Missing Values\n",
        "print(\"\\nChecking for missing values:\")\n",
        "print(df.isnull().sum()) # Count missing values per column\n",
        "df = df.dropna() # Drop rows with missing values (Alternative: df.fillna(value) to fill missing values)"
      ],
      "metadata": {
        "colab": {
          "base_uri": "https://localhost:8080/"
        },
        "id": "mQPEh38bxDu-",
        "outputId": "ed98a8f4-ef48-43a0-a8ac-2a1f49f715d5"
      },
      "execution_count": null,
      "outputs": [
        {
          "output_type": "stream",
          "name": "stdout",
          "text": [
            "\n",
            "Checking for duplicate:\n",
            "0\n"
          ]
        }
      ]
    },
    {
      "cell_type": "code",
      "source": [
        "# Step 4: Encoding Categorical Variables\n",
        "print(\"\\nEncoding categorical variables:\")\n",
        "categorical_cols_ = df.select_dtypes(include=['object']).columns # Selecting categorical columns\n",
        "label_encoders = {}\n",
        "for col in categorical_cols_:\n",
        "  le = LabelEncoder()\n",
        "  df[col] = le.fit_transform(df[col]) # Apply Label Encoding\n",
        "  label_encoders[col] = le\n",
        "  print(df.head()) # Display tranformed dataset"
      ],
      "metadata": {
        "colab": {
          "base_uri": "https://localhost:8080/"
        },
        "id": "eexAXMcqxNJX",
        "outputId": "4dceca58-ce14-470d-e707-974b5f203ff9"
      },
      "execution_count": null,
      "outputs": [
        {
          "output_type": "stream",
          "name": "stdout",
          "text": [
            "\n",
            "Encoding categorical variables:\n",
            "   Date  Subways: Total Estimated Ridership  \\\n",
            "0     0                             2212965   \n",
            "1     1                             5329915   \n",
            "2     2                             5481103   \n",
            "3     3                             5498809   \n",
            "4     4                             5496453   \n",
            "\n",
            "   Subways: % of Comparable Pre-Pandemic Day  \\\n",
            "0                                         97   \n",
            "1                                         96   \n",
            "2                                         98   \n",
            "3                                         99   \n",
            "4                                         99   \n",
            "\n",
            "   Buses: Total Estimated Ridership  Buses: % of Comparable Pre-Pandemic Day  \\\n",
            "0                            984908                                       99   \n",
            "1                           2209066                                       99   \n",
            "2                           2228608                                       99   \n",
            "3                           2177165                                       97   \n",
            "4                           2244515                                      100   \n",
            "\n",
            "   LIRR: Total Estimated Ridership  LIRR: % of Comparable Pre-Pandemic Day  \\\n",
            "0                            86790                                     100   \n",
            "1                           321569                                     103   \n",
            "2                           319727                                     102   \n",
            "3                           311662                                      99   \n",
            "4                           307597                                      98   \n",
            "\n",
            "   Metro-North: Total Estimated Ridership  \\\n",
            "0                                   55825   \n",
            "1                                  180701   \n",
            "2                                  190648   \n",
            "3                                  192689   \n",
            "4                                  194386   \n",
            "\n",
            "   Metro-North: % of Comparable Pre-Pandemic Day  \\\n",
            "0                                             59   \n",
            "1                                             66   \n",
            "2                                             69   \n",
            "3                                             70   \n",
            "4                                             70   \n",
            "\n",
            "   Access-A-Ride: Total Scheduled Trips  \\\n",
            "0                                 19922   \n",
            "1                                 30338   \n",
            "2                                 32767   \n",
            "3                                 34297   \n",
            "4                                 33209   \n",
            "\n",
            "   Access-A-Ride: % of Comparable Pre-Pandemic Day  \\\n",
            "0                                              113   \n",
            "1                                              102   \n",
            "2                                              110   \n",
            "3                                              115   \n",
            "4                                              112   \n",
            "\n",
            "   Bridges and Tunnels: Total Traffic  \\\n",
            "0                              786960   \n",
            "1                              874619   \n",
            "2                              882175   \n",
            "3                              905558   \n",
            "4                              929298   \n",
            "\n",
            "   Bridges and Tunnels: % of Comparable Pre-Pandemic Day  \\\n",
            "0                                                 98       \n",
            "1                                                 95       \n",
            "2                                                 96       \n",
            "3                                                 98       \n",
            "4                                                101       \n",
            "\n",
            "   Staten Island Railway: Total Estimated Ridership  \\\n",
            "0                                              1636   \n",
            "1                                             17140   \n",
            "2                                             17453   \n",
            "3                                             17136   \n",
            "4                                             17203   \n",
            "\n",
            "   Staten Island Railway: % of Comparable Pre-Pandemic Day  \n",
            "0                                                 52        \n",
            "1                                                107        \n",
            "2                                                109        \n",
            "3                                                107        \n",
            "4                                                108        \n"
          ]
        }
      ]
    },
    {
      "cell_type": "code",
      "source": [
        "# Step 5: Featuring Scaling\n",
        "print(\"\\nApplying feature scalling:\")\n",
        "numeric_cols = df.select_dtypes(include=[np.number]).columns # Selecting numeric columns\n",
        "scaler = StandardScaler() # Initializing standard scaler\n",
        "df[numeric_cols] = scaler.fit_transform(df[numeric_cols]) # standardizing numerical features\n",
        "print(df.head()) # Display scaled dataset"
      ],
      "metadata": {
        "colab": {
          "base_uri": "https://localhost:8080/"
        },
        "id": "qLVBzUjFxX63",
        "outputId": "7c64086f-9696-4726-ea04-9ce1544cd8b0"
      },
      "execution_count": null,
      "outputs": [
        {
          "output_type": "stream",
          "name": "stdout",
          "text": [
            "\n",
            "Applying feature scalling:\n",
            "       Date  Subways: Total Estimated Ridership  \\\n",
            "0 -1.731036                           -0.278838   \n",
            "1 -1.729005                            2.656496   \n",
            "2 -1.726975                            2.798875   \n",
            "3 -1.724944                            2.815549   \n",
            "4 -1.722914                            2.813331   \n",
            "\n",
            "   Subways: % of Comparable Pre-Pandemic Day  \\\n",
            "0                                   2.096454   \n",
            "1                                   2.045984   \n",
            "2                                   2.146924   \n",
            "3                                   2.197394   \n",
            "4                                   2.197394   \n",
            "\n",
            "   Buses: Total Estimated Ridership  Buses: % of Comparable Pre-Pandemic Day  \\\n",
            "0                         -0.049881                                 2.297177   \n",
            "1                          2.730711                                 2.297177   \n",
            "2                          2.775100                                 2.297177   \n",
            "3                          2.658250                                 2.193484   \n",
            "4                          2.811231                                 2.349024   \n",
            "\n",
            "   LIRR: Total Estimated Ridership  LIRR: % of Comparable Pre-Pandemic Day  \\\n",
            "0                        -0.689837                                1.395441   \n",
            "1                         2.604018                                1.497867   \n",
            "2                         2.578176                                1.463725   \n",
            "3                         2.465027                                1.361299   \n",
            "4                         2.407997                                1.327157   \n",
            "\n",
            "   Metro-North: Total Estimated Ridership  \\\n",
            "0                               -0.888427   \n",
            "1                                0.989952   \n",
            "2                                1.139574   \n",
            "3                                1.170275   \n",
            "4                                1.195801   \n",
            "\n",
            "   Metro-North: % of Comparable Pre-Pandemic Day  \\\n",
            "0                                       0.302980   \n",
            "1                                       0.570875   \n",
            "2                                       0.685687   \n",
            "3                                       0.723958   \n",
            "4                                       0.723958   \n",
            "\n",
            "   Access-A-Ride: Total Scheduled Trips  \\\n",
            "0                             -0.252812   \n",
            "1                              1.051097   \n",
            "2                              1.355167   \n",
            "3                              1.546697   \n",
            "4                              1.410498   \n",
            "\n",
            "   Access-A-Ride: % of Comparable Pre-Pandemic Day  \\\n",
            "0                                         1.089166   \n",
            "1                                         0.642698   \n",
            "2                                         0.967402   \n",
            "3                                         1.170342   \n",
            "4                                         1.048578   \n",
            "\n",
            "   Bridges and Tunnels: Total Traffic  \\\n",
            "0                           -0.479544   \n",
            "1                            0.132848   \n",
            "2                            0.185635   \n",
            "3                            0.348990   \n",
            "4                            0.514839   \n",
            "\n",
            "   Bridges and Tunnels: % of Comparable Pre-Pandemic Day  \\\n",
            "0                                           0.315956       \n",
            "1                                           0.111005       \n",
            "2                                           0.179322       \n",
            "3                                           0.315956       \n",
            "4                                           0.520906       \n",
            "\n",
            "   Staten Island Railway: Total Estimated Ridership  \\\n",
            "0                                         -1.041959   \n",
            "1                                          4.741240   \n",
            "2                                          4.857993   \n",
            "3                                          4.739748   \n",
            "4                                          4.764739   \n",
            "\n",
            "   Staten Island Railway: % of Comparable Pre-Pandemic Day  \n",
            "0                                           0.736406        \n",
            "1                                           3.590946        \n",
            "2                                           3.694747        \n",
            "3                                           3.590946        \n",
            "4                                           3.642846        \n"
          ]
        }
      ]
    },
    {
      "cell_type": "code",
      "source": [
        "# Step 6: Spliting Dataset into training and Testing Sets\n",
        "print(\"\\nSplitting dataset into training and testing sts:\")\n",
        "x = df.drop(columns=['subways_of_comparable_pre-pandemiic_day_1']) # Assuming 'subways_1' is the target variable\n",
        "y = df['subways_1subways_of_comparable_pre-pandemiic_day_1']\n",
        "x_train,x_test,y_train,y_test = train_test_split(x,y,test_size=0.2,random_state=42)\n",
        "print(f\"Training set size:{x_train.shape}, Testing set size:{x_test.shape}\")"
      ],
      "metadata": {
        "colab": {
          "base_uri": "https://localhost:8080/",
          "height": 245
        },
        "id": "X6m5u4i_xf1h",
        "outputId": "4ba2dbe8-d67c-4b70-f376-e2850ed1bfd9"
      },
      "execution_count": null,
      "outputs": [
        {
          "output_type": "stream",
          "name": "stdout",
          "text": [
            "\n",
            "Splitting dataset into training and testing sts:\n"
          ]
        },
        {
          "output_type": "error",
          "ename": "NameError",
          "evalue": "name 'df' is not defined",
          "traceback": [
            "\u001b[0;31m---------------------------------------------------------------------------\u001b[0m",
            "\u001b[0;31mNameError\u001b[0m                                 Traceback (most recent call last)",
            "\u001b[0;32m<ipython-input-1-d31d4c7ef2f0>\u001b[0m in \u001b[0;36m<cell line: 0>\u001b[0;34m()\u001b[0m\n\u001b[1;32m      1\u001b[0m \u001b[0;31m# Step 6: Spliting Dataset into training and Testing Sets\u001b[0m\u001b[0;34m\u001b[0m\u001b[0;34m\u001b[0m\u001b[0m\n\u001b[1;32m      2\u001b[0m \u001b[0mprint\u001b[0m\u001b[0;34m(\u001b[0m\u001b[0;34m\"\\nSplitting dataset into training and testing sts:\"\u001b[0m\u001b[0;34m)\u001b[0m\u001b[0;34m\u001b[0m\u001b[0;34m\u001b[0m\u001b[0m\n\u001b[0;32m----> 3\u001b[0;31m \u001b[0mx\u001b[0m \u001b[0;34m=\u001b[0m \u001b[0mdf\u001b[0m\u001b[0;34m.\u001b[0m\u001b[0mdrop\u001b[0m\u001b[0;34m(\u001b[0m\u001b[0mcolumns\u001b[0m\u001b[0;34m=\u001b[0m\u001b[0;34m[\u001b[0m\u001b[0;34m'subways_of_comparable_pre-pandemiic_day_1'\u001b[0m\u001b[0;34m]\u001b[0m\u001b[0;34m)\u001b[0m \u001b[0;31m# Assuming 'subways_1' is the target variable\u001b[0m\u001b[0;34m\u001b[0m\u001b[0;34m\u001b[0m\u001b[0m\n\u001b[0m\u001b[1;32m      4\u001b[0m \u001b[0my\u001b[0m \u001b[0;34m=\u001b[0m \u001b[0mdf\u001b[0m\u001b[0;34m[\u001b[0m\u001b[0;34m'subways_1subways_of_comparable_pre-pandemiic_day_1'\u001b[0m\u001b[0;34m]\u001b[0m\u001b[0;34m\u001b[0m\u001b[0;34m\u001b[0m\u001b[0m\n\u001b[1;32m      5\u001b[0m \u001b[0mx_train\u001b[0m\u001b[0;34m,\u001b[0m\u001b[0mx_test\u001b[0m\u001b[0;34m,\u001b[0m\u001b[0my_train\u001b[0m\u001b[0;34m,\u001b[0m\u001b[0my_test\u001b[0m \u001b[0;34m=\u001b[0m \u001b[0mtrain_test_split\u001b[0m\u001b[0;34m(\u001b[0m\u001b[0mx\u001b[0m\u001b[0;34m,\u001b[0m\u001b[0my\u001b[0m\u001b[0;34m,\u001b[0m\u001b[0mtest_size\u001b[0m\u001b[0;34m=\u001b[0m\u001b[0;36m0.2\u001b[0m\u001b[0;34m,\u001b[0m\u001b[0mrandom_state\u001b[0m\u001b[0;34m=\u001b[0m\u001b[0;36m42\u001b[0m\u001b[0;34m)\u001b[0m\u001b[0;34m\u001b[0m\u001b[0;34m\u001b[0m\u001b[0m\n",
            "\u001b[0;31mNameError\u001b[0m: name 'df' is not defined"
          ]
        }
      ]
    }
  ]
}